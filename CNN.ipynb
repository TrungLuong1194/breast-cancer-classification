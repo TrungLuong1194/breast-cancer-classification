{
 "cells": [
  {
   "cell_type": "markdown",
   "metadata": {
    "id": "Zwecc6kFZCMz"
   },
   "source": [
    "# **Connect to Google Drive**"
   ]
  },
  {
   "cell_type": "code",
   "execution_count": 1,
   "metadata": {
    "colab": {
     "base_uri": "https://localhost:8080/"
    },
    "executionInfo": {
     "elapsed": 17079,
     "status": "ok",
     "timestamp": 1614211542367,
     "user": {
      "displayName": "Trung Lương",
      "photoUrl": "",
      "userId": "02044496887486952450"
     },
     "user_tz": -180
    },
    "id": "I7cmjYtcqtHf",
    "outputId": "320d4c6d-51b9-494b-917e-aa6fc73b7bb6"
   },
   "outputs": [
    {
     "name": "stdout",
     "output_type": "stream",
     "text": [
      "Mounted at /content/gdrive\n"
     ]
    }
   ],
   "source": [
    "from google.colab import drive\n",
    "drive.mount('/content/gdrive')"
   ]
  },
  {
   "cell_type": "code",
   "execution_count": 2,
   "metadata": {
    "colab": {
     "base_uri": "https://localhost:8080/"
    },
    "executionInfo": {
     "elapsed": 840,
     "status": "ok",
     "timestamp": 1614211577088,
     "user": {
      "displayName": "Trung Lương",
      "photoUrl": "",
      "userId": "02044496887486952450"
     },
     "user_tz": -180
    },
    "id": "2DbK7LxsvmpW",
    "outputId": "7bd7c85a-9c3e-48c1-87e6-eaef74522e0f"
   },
   "outputs": [
    {
     "name": "stdout",
     "output_type": "stream",
     "text": [
      "/content/gdrive/My Drive/Colab Notebooks\n"
     ]
    }
   ],
   "source": [
    "cd gdrive/My\\ Drive/Colab\\ Notebooks/"
   ]
  },
  {
   "cell_type": "markdown",
   "metadata": {
    "id": "FhHTjk0pZZB4"
   },
   "source": [
    "# **Load dataset**\n",
    "\n",
    "- Load data from Google Drive, which is created on local laptop.\n",
    "- In Google Drive, have 3 directories: train_data - valid_data - test_data.\n",
    "- In each folder, data is stored in h5py format."
   ]
  },
  {
   "cell_type": "code",
   "execution_count": 3,
   "metadata": {
    "executionInfo": {
     "elapsed": 800,
     "status": "ok",
     "timestamp": 1614211577591,
     "user": {
      "displayName": "Trung Lương",
      "photoUrl": "",
      "userId": "02044496887486952450"
     },
     "user_tz": -180
    },
    "id": "hg58Jdv_wnQ7"
   },
   "outputs": [],
   "source": [
    "import numpy as np\n",
    "import h5py"
   ]
  },
  {
   "cell_type": "markdown",
   "metadata": {
    "id": "fK1yHloTqq0M"
   },
   "source": [
    "### **Load training set**"
   ]
  },
  {
   "cell_type": "code",
   "execution_count": 4,
   "metadata": {
    "executionInfo": {
     "elapsed": 1577,
     "status": "ok",
     "timestamp": 1614211578846,
     "user": {
      "displayName": "Trung Lương",
      "photoUrl": "",
      "userId": "02044496887486952450"
     },
     "user_tz": -180
    },
    "id": "zKpha3knw4GP"
   },
   "outputs": [],
   "source": [
    "def load_train_dataset():\n",
    "    X_train = []\n",
    "    y_train = []\n",
    "\n",
    "    filename_prefix = 'train_data/X_train_'\n",
    "\n",
    "    for i in range(1, 11):\n",
    "        \n",
    "        filename = filename_prefix + str(i) + '.hdf5'\n",
    "        print('Loading batch ' + str(i) + ' ...')\n",
    "\n",
    "        with h5py.File(filename, 'r') as f:\n",
    "            for j in f['X'][:]:\n",
    "                X_train.append(j)\n",
    "\n",
    "            for j in f['y'][:]:\n",
    "                y_train.append(j)\n",
    "\n",
    "    return X_train, y_train"
   ]
  },
  {
   "cell_type": "code",
   "execution_count": 5,
   "metadata": {
    "colab": {
     "base_uri": "https://localhost:8080/"
    },
    "executionInfo": {
     "elapsed": 63101,
     "status": "ok",
     "timestamp": 1614211640645,
     "user": {
      "displayName": "Trung Lương",
      "photoUrl": "",
      "userId": "02044496887486952450"
     },
     "user_tz": -180
    },
    "id": "6Tr-B93DyS2g",
    "outputId": "a38909d0-7fe0-4f09-c96d-336f6c8d8662"
   },
   "outputs": [
    {
     "name": "stdout",
     "output_type": "stream",
     "text": [
      "Loading batch 1 ...\n",
      "Loading batch 2 ...\n",
      "Loading batch 3 ...\n",
      "Loading batch 4 ...\n",
      "Loading batch 5 ...\n",
      "Loading batch 6 ...\n",
      "Loading batch 7 ...\n",
      "Loading batch 8 ...\n",
      "Loading batch 9 ...\n",
      "Loading batch 10 ...\n"
     ]
    }
   ],
   "source": [
    "X_train, y_train = load_train_dataset()"
   ]
  },
  {
   "cell_type": "code",
   "execution_count": 6,
   "metadata": {
    "executionInfo": {
     "elapsed": 66961,
     "status": "ok",
     "timestamp": 1614211644732,
     "user": {
      "displayName": "Trung Lương",
      "photoUrl": "",
      "userId": "02044496887486952450"
     },
     "user_tz": -180
    },
    "id": "KzjYU1KwyW3e"
   },
   "outputs": [],
   "source": [
    "X_train = np.array(X_train)\n",
    "y_train = np.array(y_train)"
   ]
  },
  {
   "cell_type": "code",
   "execution_count": 7,
   "metadata": {
    "colab": {
     "base_uri": "https://localhost:8080/"
    },
    "executionInfo": {
     "elapsed": 66728,
     "status": "ok",
     "timestamp": 1614211644734,
     "user": {
      "displayName": "Trung Lương",
      "photoUrl": "",
      "userId": "02044496887486952450"
     },
     "user_tz": -180
    },
    "id": "NbGvwTXfzuIE",
    "outputId": "bb45ba6c-d0be-4c7d-bcec-607eaf6c81b1"
   },
   "outputs": [
    {
     "name": "stdout",
     "output_type": "stream",
     "text": [
      "(194266, 3, 50, 50)\n",
      "(194266,)\n"
     ]
    }
   ],
   "source": [
    "print(X_train.shape)\n",
    "print(y_train.shape)"
   ]
  },
  {
   "cell_type": "markdown",
   "metadata": {
    "id": "dv0w0DlUrEpX"
   },
   "source": [
    "### **Load valid set**"
   ]
  },
  {
   "cell_type": "code",
   "execution_count": 8,
   "metadata": {
    "executionInfo": {
     "elapsed": 66254,
     "status": "ok",
     "timestamp": 1614211644736,
     "user": {
      "displayName": "Trung Lương",
      "photoUrl": "",
      "userId": "02044496887486952450"
     },
     "user_tz": -180
    },
    "id": "iLJjvMkK6gic"
   },
   "outputs": [],
   "source": [
    "def load_valid_dataset():\n",
    "    X_valid = []\n",
    "    y_valid = []\n",
    "\n",
    "    filename_prefix = 'valid_data/X_valid_'\n",
    "\n",
    "    for i in range(1, 4):\n",
    "\n",
    "        \n",
    "        filename = filename_prefix + str(i) + '.hdf5'\n",
    "        print('Loading batch ' + str(i) + ' ...')\n",
    "\n",
    "        with h5py.File(filename, 'r') as f:\n",
    "            for j in f['X'][:]:\n",
    "                X_valid.append(j)\n",
    "\n",
    "            for j in f['y'][:]:\n",
    "                y_valid.append(j)\n",
    "\n",
    "    return X_valid, y_valid"
   ]
  },
  {
   "cell_type": "code",
   "execution_count": 9,
   "metadata": {
    "colab": {
     "base_uri": "https://localhost:8080/"
    },
    "executionInfo": {
     "elapsed": 72628,
     "status": "ok",
     "timestamp": 1614211651380,
     "user": {
      "displayName": "Trung Lương",
      "photoUrl": "",
      "userId": "02044496887486952450"
     },
     "user_tz": -180
    },
    "id": "54FTpMpF7P3k",
    "outputId": "4177d72b-f207-4f79-b253-1024bd4609fc"
   },
   "outputs": [
    {
     "name": "stdout",
     "output_type": "stream",
     "text": [
      "Loading batch 1 ...\n",
      "Loading batch 2 ...\n",
      "Loading batch 3 ...\n"
     ]
    }
   ],
   "source": [
    "X_valid, y_valid = load_valid_dataset()"
   ]
  },
  {
   "cell_type": "code",
   "execution_count": 10,
   "metadata": {
    "executionInfo": {
     "elapsed": 72759,
     "status": "ok",
     "timestamp": 1614211651739,
     "user": {
      "displayName": "Trung Lương",
      "photoUrl": "",
      "userId": "02044496887486952450"
     },
     "user_tz": -180
    },
    "id": "J5_0F_9g7VnD"
   },
   "outputs": [],
   "source": [
    "X_valid = np.array(X_valid)\n",
    "y_valid = np.array(y_valid)"
   ]
  },
  {
   "cell_type": "code",
   "execution_count": 11,
   "metadata": {
    "colab": {
     "base_uri": "https://localhost:8080/"
    },
    "executionInfo": {
     "elapsed": 72505,
     "status": "ok",
     "timestamp": 1614211651742,
     "user": {
      "displayName": "Trung Lương",
      "photoUrl": "",
      "userId": "02044496887486952450"
     },
     "user_tz": -180
    },
    "id": "SN9_Tb7NQjww",
    "outputId": "5e51b843-2072-4244-a166-97c5790e9c37"
   },
   "outputs": [
    {
     "name": "stdout",
     "output_type": "stream",
     "text": [
      "(41629, 3, 50, 50)\n",
      "(41629,)\n"
     ]
    }
   ],
   "source": [
    "print(X_valid.shape)\n",
    "print(y_valid.shape)"
   ]
  },
  {
   "cell_type": "markdown",
   "metadata": {
    "id": "8sh-TSIjnIhU"
   },
   "source": [
    "### **Load test set**"
   ]
  },
  {
   "cell_type": "code",
   "execution_count": 12,
   "metadata": {
    "executionInfo": {
     "elapsed": 72019,
     "status": "ok",
     "timestamp": 1614211651744,
     "user": {
      "displayName": "Trung Lương",
      "photoUrl": "",
      "userId": "02044496887486952450"
     },
     "user_tz": -180
    },
    "id": "OHgQiD_eQuB6"
   },
   "outputs": [],
   "source": [
    "def load_test_dataset():\n",
    "    X_test = []\n",
    "    y_test = []\n",
    "\n",
    "    filename_prefix = 'test_data/X_test_'\n",
    "\n",
    "    for i in range(1, 4):\n",
    "\n",
    "        \n",
    "        filename = filename_prefix + str(i) + '.hdf5'\n",
    "        print('Loading batch ' + str(i) + ' ...')\n",
    "\n",
    "        with h5py.File(filename, 'r') as f:\n",
    "            for j in f['X'][:]:\n",
    "                X_test.append(j)\n",
    "\n",
    "            for j in f['y'][:]:\n",
    "                y_test.append(j)\n",
    "\n",
    "    return X_test, y_test"
   ]
  },
  {
   "cell_type": "code",
   "execution_count": 13,
   "metadata": {
    "colab": {
     "base_uri": "https://localhost:8080/"
    },
    "executionInfo": {
     "elapsed": 86989,
     "status": "ok",
     "timestamp": 1614211666972,
     "user": {
      "displayName": "Trung Lương",
      "photoUrl": "",
      "userId": "02044496887486952450"
     },
     "user_tz": -180
    },
    "id": "3el2jGb-nOQs",
    "outputId": "abbb6b66-2735-4b35-b761-092cf454df91"
   },
   "outputs": [
    {
     "name": "stdout",
     "output_type": "stream",
     "text": [
      "Loading batch 1 ...\n",
      "Loading batch 2 ...\n",
      "Loading batch 3 ...\n"
     ]
    }
   ],
   "source": [
    "X_test, y_test = load_test_dataset()"
   ]
  },
  {
   "cell_type": "code",
   "execution_count": 14,
   "metadata": {
    "executionInfo": {
     "elapsed": 87160,
     "status": "ok",
     "timestamp": 1614211667377,
     "user": {
      "displayName": "Trung Lương",
      "photoUrl": "",
      "userId": "02044496887486952450"
     },
     "user_tz": -180
    },
    "id": "0AiSPDKQnOdJ"
   },
   "outputs": [],
   "source": [
    "X_test = np.array(X_test)\n",
    "y_test = np.array(y_test)"
   ]
  },
  {
   "cell_type": "code",
   "execution_count": 15,
   "metadata": {
    "colab": {
     "base_uri": "https://localhost:8080/"
    },
    "executionInfo": {
     "elapsed": 86888,
     "status": "ok",
     "timestamp": 1614211667378,
     "user": {
      "displayName": "Trung Lương",
      "photoUrl": "",
      "userId": "02044496887486952450"
     },
     "user_tz": -180
    },
    "id": "zgJ4jkibnOqj",
    "outputId": "b3c68972-9e1b-45e3-efdb-bfcdca08763e"
   },
   "outputs": [
    {
     "name": "stdout",
     "output_type": "stream",
     "text": [
      "(41629, 3, 50, 50)\n",
      "(41629,)\n"
     ]
    }
   ],
   "source": [
    "print(X_test.shape)\n",
    "print(y_test.shape)"
   ]
  },
  {
   "cell_type": "markdown",
   "metadata": {
    "id": "46SO5TPuHCqT"
   },
   "source": [
    "# **Building Model Convolution Neural Network**"
   ]
  },
  {
   "cell_type": "code",
   "execution_count": 16,
   "metadata": {
    "executionInfo": {
     "elapsed": 91381,
     "status": "ok",
     "timestamp": 1614211672397,
     "user": {
      "displayName": "Trung Lương",
      "photoUrl": "",
      "userId": "02044496887486952450"
     },
     "user_tz": -180
    },
    "id": "xZT0mpOOQ-q2"
   },
   "outputs": [],
   "source": [
    "import math\n",
    "import time\n",
    "import pandas as pd\n",
    "import matplotlib.pyplot as plt\n",
    "import seaborn as sn\n",
    "from sklearn.metrics import confusion_matrix, recall_score, f1_score\n",
    "import torch\n",
    "import torch.nn as nn\n",
    "from torch import optim"
   ]
  },
  {
   "cell_type": "markdown",
   "metadata": {
    "id": "9n2NO9hbxwbB"
   },
   "source": [
    "### **Parameters of the model**"
   ]
  },
  {
   "cell_type": "code",
   "execution_count": 17,
   "metadata": {
    "executionInfo": {
     "elapsed": 90839,
     "status": "ok",
     "timestamp": 1614211672398,
     "user": {
      "displayName": "Trung Lương",
      "photoUrl": "",
      "userId": "02044496887486952450"
     },
     "user_tz": -180
    },
    "id": "J8DbgXlox9DK"
   },
   "outputs": [],
   "source": [
    "EPOCHS = 25\n",
    "BATCH_SIZE = 128\n",
    "LR = 1e-2"
   ]
  },
  {
   "cell_type": "markdown",
   "metadata": {
    "id": "IKQeUCpDVokL"
   },
   "source": [
    "### **Defining the Model**"
   ]
  },
  {
   "cell_type": "markdown",
   "metadata": {
    "id": "gQuqZWJ6FtUI"
   },
   "source": [
    "![a.png](data:image/png;base64,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)"
   ]
  },
  {
   "cell_type": "markdown",
   "metadata": {
    "id": "F9oKDoeJXV8d"
   },
   "source": [
    "**Model description:**\n",
    "\n",
    "- Input model is RGB image data (3 color channels, 50 pixels height, 50 pixels width)\n",
    "- Transform input image to multi-dimensional matrix with size 3 - 50 - 50.\n",
    "- **Convolution Layer - Pooling Layer: 1st**\n",
    "  - Transform each area of pixels with: kernel_size = 3, padding = 2, output channel = 32. \n",
    "  - Obtain multi-dimensional matrix with size 32 - 52 - 52.\n",
    "  - Reduce the size of feature maps in Pooling Layer. Apply Average Pooling.\n",
    "  - Obtain multi-dimensional matrix with size 32 - 26 - 26.\n",
    "- **Convolution Layer - Pooling Layer: 2nd**\n",
    "  - Transform each area of pixels with: kernel_size = 3, padding = 2, output channel = 64. \n",
    "  - Obtain multi-dimensional matrix with size 64 - 28 - 28.\n",
    "  - Reduce the size of feature maps in Pooling Layer. Apply Average Pooling.\n",
    "  - Obtain multi-dimensional matrix with size 64 - 14 - 14.\n",
    "- **Convolution Layer - Pooling Layer: 3th**\n",
    "  - Transform each area of pixels with: kernel_size = 3, padding = 2, output channel = 128. \n",
    "  - Obtain multi-dimensional matrix with size 128 - 16 - 16.\n",
    "  - Reduce the size of feature maps in Pooling Layer. Apply Average Pooling.\n",
    "  - Obtain multi-dimensional matrix with size 128 - 8 - 8.\n",
    "- **Convolution Layer - Pooling Layer: 4th**\n",
    "  - Transform each area of pixels with: kernel_size = 3, padding = 2, output channel = 256. \n",
    "  - Obtain multi-dimensional matrix with size 256 - 10 - 10.\n",
    "  - Reduce the size of feature maps in Pooling Layer. Apply Average Pooling.\n",
    "  - Obtain multi-dimensional matrix with size 256 - 5 - 5.\n",
    "- **Convolution Layer - Pooling Layer: 5th**\n",
    "  - Transform each area of pixels with: kernel_size = 3, padding = 2, output channel = 512. \n",
    "  - Obtain multi-dimensional matrix with size 512 - 7 - 7.\n",
    "  - Reduce the size of feature maps in Pooling Layer. Apply Average Pooling.\n",
    "  - Obtain multi-dimensional matrix with size 512 - 3 - 3.\n",
    "- We will flatten image data in to 4608 (512 - 3 - 3) features.\n",
    "- Next, the 4608 features will pass through the first hidden layer to tranform into 1024 dimensions.\n",
    "- Then continue pass through the second hidden layer to tranform into 128 dimensions.\n",
    "- Then continue pass through the third hidden layer to tranform into 16 dimensions.\n",
    "- Finally, an output layer which will transform into 2 dimensions vector, corresponds to the 2 labels: \"negative\" and \"positive\".\n",
    "\n",
    "**Activation function**\n",
    "\n",
    "- The ReLU is the most used activation function in the world right now. Since, it is used in almost all the convolutional neural networks or deep learning. \n",
    "- Computationally efficient—allows the network to converge very quickly.\n",
    "- Non-linear—although it looks like a linear function, ReLU has a derivative function and allows for backpropagation.\n",
    "\n",
    "![ReLU-activation-function.png](data:image/png;base64,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)\n",
    "\n",
    "**Avoid overfitting**\n",
    "\n",
    "To avoid overfitting in neural networks, use two methods of Dropout and Batch normalization.\n",
    "- **Dropout**: is one of the most commonly used and the most powerful regularization techniques used in deep learning. Dropout is applied to intermediate layers of the model during the training time. Let's look at an example of how dropout is applied on a linear layer's output that generates 10 values:\n",
    "\n",
    "  + The figure shows what happens when dropout is applied to the linear layer output with a threshold value of 0.2. It randomly masks or zeros 20% of data, so that the model will not be dependent on a particular set of weights or patterns, thus overfitting.\n",
    "\n",
    "![a.png](data:image/png;base64,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)\n",
    "\n",
    "- **Batch normalization**: (also known as batch norm) is a method used to make artificial neural networks faster and more stable through normalization of the input layer by re-centering and re-scaling. To increase the stability of a neural network, batch normalization normalizes the output of a previous activation layer by subtracting the batch mean and dividing by the batch standard deviation.\n"
   ]
  },
  {
   "cell_type": "code",
   "execution_count": 18,
   "metadata": {
    "executionInfo": {
     "elapsed": 90320,
     "status": "ok",
     "timestamp": 1614211672924,
     "user": {
      "displayName": "Trung Lương",
      "photoUrl": "",
      "userId": "02044496887486952450"
     },
     "user_tz": -180
    },
    "id": "f-PHjODbRNb1"
   },
   "outputs": [],
   "source": [
    "class CNN(nn.Module):\n",
    "  \n",
    "    def __init__(self):\n",
    "        super(CNN, self).__init__()\n",
    "\n",
    "        self.conv1 = nn.Conv2d(in_channels=3, out_channels=32, kernel_size=3, padding=2)\n",
    "        self.conv2 = nn.Conv2d(in_channels=32, out_channels=64, kernel_size=3, padding=2)\n",
    "        self.conv3 = nn.Conv2d(in_channels=64, out_channels=128, kernel_size=3, padding=2)\n",
    "        self.conv4 = nn.Conv2d(in_channels=128, out_channels=256, kernel_size=3, padding=2)\n",
    "        self.conv5 = nn.Conv2d(in_channels=256, out_channels=512, kernel_size=3, padding=2)\n",
    "\n",
    "        self.bn1 = nn.BatchNorm2d(32)\n",
    "        self.bn2 = nn.BatchNorm2d(64)\n",
    "        self.bn3 = nn.BatchNorm2d(128)\n",
    "        self.bn4 = nn.BatchNorm2d(256)\n",
    "        self.bn5 = nn.BatchNorm2d(512)\n",
    "\n",
    "        self.avg = nn.AvgPool2d(kernel_size=2)\n",
    "        self.relu = nn.ReLU()\n",
    "\n",
    "        self.fc1 = nn.Linear(4608, 1024)\n",
    "        self.fc2 = nn.Linear(1024, 128)\n",
    "        self.fc3 = nn.Linear(128, 16)\n",
    "        self.fc4 = nn.Linear(16, 2)\n",
    "\n",
    "    def forward(self, x):\n",
    "        x = self.avg(self.relu(self.bn1(self.conv1(x))))\n",
    "        x = self.avg(self.relu(self.bn2(self.conv2(x))))\n",
    "        x = self.avg(self.relu(self.bn3(self.conv3(x))))\n",
    "        x = self.avg(self.relu(self.bn4(self.conv4(x))))\n",
    "        x = self.avg(self.relu(self.bn5(self.conv5(x))))\n",
    "\n",
    "        x = x.view(x.shape[0], -1)\n",
    "\n",
    "        x = self.relu(self.fc1(x))\n",
    "        x = self.relu(self.fc2(x))\n",
    "        x = self.relu(self.fc3(x))\n",
    "        out = self.fc4(x)\n",
    "\n",
    "        return out"
   ]
  },
  {
   "cell_type": "code",
   "execution_count": 19,
   "metadata": {
    "colab": {
     "base_uri": "https://localhost:8080/"
    },
    "executionInfo": {
     "elapsed": 90056,
     "status": "ok",
     "timestamp": 1614211672925,
     "user": {
      "displayName": "Trung Lương",
      "photoUrl": "",
      "userId": "02044496887486952450"
     },
     "user_tz": -180
    },
    "id": "ABX8AhN1RRpQ",
    "outputId": "74aba336-38f8-47c2-8fe4-23fe0b1d3393"
   },
   "outputs": [
    {
     "name": "stdout",
     "output_type": "stream",
     "text": [
      "CNN(\n",
      "  (conv1): Conv2d(3, 32, kernel_size=(3, 3), stride=(1, 1), padding=(2, 2))\n",
      "  (conv2): Conv2d(32, 64, kernel_size=(3, 3), stride=(1, 1), padding=(2, 2))\n",
      "  (conv3): Conv2d(64, 128, kernel_size=(3, 3), stride=(1, 1), padding=(2, 2))\n",
      "  (conv4): Conv2d(128, 256, kernel_size=(3, 3), stride=(1, 1), padding=(2, 2))\n",
      "  (conv5): Conv2d(256, 512, kernel_size=(3, 3), stride=(1, 1), padding=(2, 2))\n",
      "  (bn1): BatchNorm2d(32, eps=1e-05, momentum=0.1, affine=True, track_running_stats=True)\n",
      "  (bn2): BatchNorm2d(64, eps=1e-05, momentum=0.1, affine=True, track_running_stats=True)\n",
      "  (bn3): BatchNorm2d(128, eps=1e-05, momentum=0.1, affine=True, track_running_stats=True)\n",
      "  (bn4): BatchNorm2d(256, eps=1e-05, momentum=0.1, affine=True, track_running_stats=True)\n",
      "  (bn5): BatchNorm2d(512, eps=1e-05, momentum=0.1, affine=True, track_running_stats=True)\n",
      "  (avg): AvgPool2d(kernel_size=2, stride=2, padding=0)\n",
      "  (relu): ReLU()\n",
      "  (fc1): Linear(in_features=4608, out_features=1024, bias=True)\n",
      "  (fc2): Linear(in_features=1024, out_features=128, bias=True)\n",
      "  (fc3): Linear(in_features=128, out_features=16, bias=True)\n",
      "  (fc4): Linear(in_features=16, out_features=2, bias=True)\n",
      ")\n"
     ]
    }
   ],
   "source": [
    "model = CNN()\n",
    "print(model)"
   ]
  },
  {
   "cell_type": "markdown",
   "metadata": {
    "id": "j298Jstjk3Hf"
   },
   "source": [
    "**Calculate the number of trainable parameters (weights and biases)**"
   ]
  },
  {
   "cell_type": "code",
   "execution_count": 20,
   "metadata": {
    "executionInfo": {
     "elapsed": 89543,
     "status": "ok",
     "timestamp": 1614211672927,
     "user": {
      "displayName": "Trung Lương",
      "photoUrl": "",
      "userId": "02044496887486952450"
     },
     "user_tz": -180
    },
    "id": "-53ysjW9RUhL"
   },
   "outputs": [],
   "source": [
    "def count_parameters(model):\n",
    "    return sum(p.numel() for p in model.parameters() if p.requires_grad)"
   ]
  },
  {
   "cell_type": "code",
   "execution_count": 21,
   "metadata": {
    "colab": {
     "base_uri": "https://localhost:8080/"
    },
    "executionInfo": {
     "elapsed": 89260,
     "status": "ok",
     "timestamp": 1614211672927,
     "user": {
      "displayName": "Trung Lương",
      "photoUrl": "",
      "userId": "02044496887486952450"
     },
     "user_tz": -180
    },
    "id": "Uwng3UiXRW-5",
    "outputId": "3adaf4f0-547e-4231-caad-008b4b0c31a1"
   },
   "outputs": [
    {
     "name": "stdout",
     "output_type": "stream",
     "text": [
      "The model has 6,423,474 trainable parameters\n"
     ]
    }
   ],
   "source": [
    "print(f'The model has {count_parameters(model):,} trainable parameters')"
   ]
  },
  {
   "cell_type": "markdown",
   "metadata": {
    "id": "PkoWZdg1lk1E"
   },
   "source": [
    "**Optimization Algorithm**\n",
    "\n",
    "- **Adadelta algorithm**\n",
    "  + Adadelta is an extension of Adagrad and it also tries to reduce Adagrad’s aggressive, monotonically reducing the learning rate\n",
    "  + It does this by restricting the window of the past accumulated gradient to some fixed size of w. Running average at time t then depends on the previous average and the current gradient\n",
    "  + In Adadelta we do not need to set the default learning rate as we take the ratio of the running average of the previous time steps to the current gradient\n",
    "\n",
    "- Advantages:\n",
    "  + Now the learning rate does not decay and the training does not stop.\n",
    "\n",
    "- Disadvantages:\n",
    "  + Computationally expensive."
   ]
  },
  {
   "cell_type": "code",
   "execution_count": 22,
   "metadata": {
    "executionInfo": {
     "elapsed": 88703,
     "status": "ok",
     "timestamp": 1614211672928,
     "user": {
      "displayName": "Trung Lương",
      "photoUrl": "",
      "userId": "02044496887486952450"
     },
     "user_tz": -180
    },
    "id": "Vy7JDLV3RZJY"
   },
   "outputs": [],
   "source": [
    "optimizer = optim.Adadelta(model.parameters(), lr=LR)"
   ]
  },
  {
   "cell_type": "markdown",
   "metadata": {
    "id": "lL6ZwLSFna9u"
   },
   "source": [
    "**Loss Fuction**\n",
    "\n",
    "- **Cross-entropy** can be used to define a loss function in machine learning and optimization."
   ]
  },
  {
   "cell_type": "code",
   "execution_count": 23,
   "metadata": {
    "executionInfo": {
     "elapsed": 88157,
     "status": "ok",
     "timestamp": 1614211672929,
     "user": {
      "displayName": "Trung Lương",
      "photoUrl": "",
      "userId": "02044496887486952450"
     },
     "user_tz": -180
    },
    "id": "Ellkdw4mRbIR"
   },
   "outputs": [],
   "source": [
    "loss_fn = nn.CrossEntropyLoss()"
   ]
  },
  {
   "cell_type": "markdown",
   "metadata": {
    "id": "HnAa7POyomp4"
   },
   "source": [
    "**Calculate the accuracy** \n",
    "- This takes the index of the highest value for your prediction and compares it against the actual class label. Then divide how many our model got correct by the amount in the batch to calculate accuracy across the batch."
   ]
  },
  {
   "cell_type": "code",
   "execution_count": 24,
   "metadata": {
    "executionInfo": {
     "elapsed": 87586,
     "status": "ok",
     "timestamp": 1614211672930,
     "user": {
      "displayName": "Trung Lương",
      "photoUrl": "",
      "userId": "02044496887486952450"
     },
     "user_tz": -180
    },
    "id": "Q2C1ydL2RjDm"
   },
   "outputs": [],
   "source": [
    "def calculate_accuracy(y_pred, y):\n",
    "    top_pred = y_pred.argmax(1, keepdim = True)\n",
    "    correct = top_pred.eq(y.view_as(top_pred)).sum()\n",
    "    acc = correct.float() / y.shape[0]\n",
    "    return acc"
   ]
  },
  {
   "cell_type": "markdown",
   "metadata": {
    "id": "OJN5Z-YYo0KM"
   },
   "source": [
    "**Create mini-batch**"
   ]
  },
  {
   "cell_type": "code",
   "execution_count": 25,
   "metadata": {
    "executionInfo": {
     "elapsed": 87008,
     "status": "ok",
     "timestamp": 1614211672930,
     "user": {
      "displayName": "Trung Lương",
      "photoUrl": "",
      "userId": "02044496887486952450"
     },
     "user_tz": -180
    },
    "id": "PtW_l5uGRlPL"
   },
   "outputs": [],
   "source": [
    "def next_batch(X, y, batch_size):\n",
    "    # Mini-batch\n",
    "    for i in np.arange(0, X.shape[0], batch_size):\n",
    "        yield X[i:i + batch_size], y[i:i + batch_size]"
   ]
  },
  {
   "cell_type": "markdown",
   "metadata": {
    "id": "ohXGSlXgoJAc"
   },
   "source": [
    "**Transform the model and data to GPU**"
   ]
  },
  {
   "cell_type": "code",
   "execution_count": 26,
   "metadata": {
    "executionInfo": {
     "elapsed": 86345,
     "status": "ok",
     "timestamp": 1614211672931,
     "user": {
      "displayName": "Trung Lương",
      "photoUrl": "",
      "userId": "02044496887486952450"
     },
     "user_tz": -180
    },
    "id": "5aA6REEXRdIe"
   },
   "outputs": [],
   "source": [
    "device = torch.device('cuda' if torch.cuda.is_available() else 'cpu')"
   ]
  },
  {
   "cell_type": "code",
   "execution_count": 27,
   "metadata": {
    "executionInfo": {
     "elapsed": 91657,
     "status": "ok",
     "timestamp": 1614211678546,
     "user": {
      "displayName": "Trung Lương",
      "photoUrl": "",
      "userId": "02044496887486952450"
     },
     "user_tz": -180
    },
    "id": "bYkiWamORfNN"
   },
   "outputs": [],
   "source": [
    "model = model.to(device)\n",
    "loss_fn = loss_fn.to(device)"
   ]
  },
  {
   "cell_type": "markdown",
   "metadata": {
    "id": "VWN6jKWulMmz"
   },
   "source": [
    "### **Training the Model**"
   ]
  },
  {
   "cell_type": "markdown",
   "metadata": {
    "id": "dJjXwVq3OV8_"
   },
   "source": [
    "**Define Traning step**\n",
    "- Put the model into train mode: **model.train()**\n",
    "- Iterate over batches of data.\n",
    "- Transform the batch to GPU mode.\n",
    "- Clear the gradients calculated from the last batch.\n",
    "- Impliment model for batch of images: x, get predictions, y_pred.\n",
    "- Calculate the loss between prediction labels and the actual labels.\n",
    "- Calculate the accuracy between prediction labels and the actual labels.\n",
    "- Calculate the gradients of each parameter.\n",
    "- Update the parameters by taking optimizer step.\n",
    "- Return the loss and the accuracy of epoch."
   ]
  },
  {
   "cell_type": "code",
   "execution_count": 28,
   "metadata": {
    "executionInfo": {
     "elapsed": 90603,
     "status": "ok",
     "timestamp": 1614211678547,
     "user": {
      "displayName": "Trung Lương",
      "photoUrl": "",
      "userId": "02044496887486952450"
     },
     "user_tz": -180
    },
    "id": "uQag77GvRoIo"
   },
   "outputs": [],
   "source": [
    "def train(model, X, y, optimizer, loss_fn, device, batch_size):\n",
    "    epoch_loss = 0\n",
    "    epoch_acc = 0\n",
    "    \n",
    "    # Impliment train mode\n",
    "    model.train()\n",
    "    \n",
    "    for (batchX, batchY) in next_batch(X, y, batch_size):\n",
    "        x = torch.from_numpy(batchX).to(device)\n",
    "        y = torch.from_numpy(batchY).to(device)\n",
    "        \n",
    "        # Clear the gradients calculated from the last batch\n",
    "        optimizer.zero_grad()\n",
    "                \n",
    "        y_pred = model(x)\n",
    "\n",
    "        loss = loss_fn(y_pred, y)\n",
    "        acc = calculate_accuracy(y_pred, y)\n",
    "        \n",
    "        # Calculate the gradients of each parameter\n",
    "        loss.backward()\n",
    "        \n",
    "        # Update the parameters\n",
    "        optimizer.step()\n",
    "        \n",
    "        epoch_loss += loss.item()\n",
    "        epoch_acc += acc.item()\n",
    "        \n",
    "    num_of_batchs = math.ceil(len(X) / batch_size)\n",
    "    return epoch_loss / num_of_batchs, epoch_acc / num_of_batchs"
   ]
  },
  {
   "cell_type": "markdown",
   "metadata": {
    "id": "slsqH7YBQZrU"
   },
   "source": [
    "**Define Evaluation step**\n",
    "\n",
    "- Similar the training step. The differences are:\n",
    "  + Put the model into evalution mode: **model.eval()**\n",
    "  + Don't calculate the gradients of each parameter.\n",
    "  + Don't update the parameters by taking optimizer step.\n",
    "\n",
    "- **torch.no_grad()** ensures that gradients are not calculated for whatever is inside the with block. As our model will not have to calculate gradients it will be faster and use less memory."
   ]
  },
  {
   "cell_type": "code",
   "execution_count": 29,
   "metadata": {
    "executionInfo": {
     "elapsed": 89890,
     "status": "ok",
     "timestamp": 1614211678548,
     "user": {
      "displayName": "Trung Lương",
      "photoUrl": "",
      "userId": "02044496887486952450"
     },
     "user_tz": -180
    },
    "id": "DASp2ZTYSVzh"
   },
   "outputs": [],
   "source": [
    "def evaluate(model, X, y, loss_fn, device, batch_size):\n",
    "    epoch_loss = 0\n",
    "    epoch_acc = 0\n",
    "    \n",
    "    # Impliment evaluation mode\n",
    "    model.eval()\n",
    "    \n",
    "    with torch.no_grad():\n",
    "        for (batchX, batchY) in next_batch(X, y, batch_size):\n",
    "            x = torch.from_numpy(batchX).to(device)\n",
    "            y = torch.from_numpy(batchY).to(device)\n",
    "\n",
    "            y_pred = model(x)\n",
    "\n",
    "            loss = loss_fn(y_pred, y)\n",
    "            acc = calculate_accuracy(y_pred, y)\n",
    "\n",
    "            epoch_loss += loss.item()\n",
    "            epoch_acc += acc.item()\n",
    "        \n",
    "    num_of_batchs = math.ceil(len(X) / batch_size)\n",
    "    return epoch_loss / num_of_batchs, epoch_acc / num_of_batchs"
   ]
  },
  {
   "cell_type": "markdown",
   "metadata": {
    "id": "3D-urAR5RrK3"
   },
   "source": [
    "**Calculate the time need to run each epoch**"
   ]
  },
  {
   "cell_type": "code",
   "execution_count": 30,
   "metadata": {
    "executionInfo": {
     "elapsed": 89168,
     "status": "ok",
     "timestamp": 1614211678549,
     "user": {
      "displayName": "Trung Lương",
      "photoUrl": "",
      "userId": "02044496887486952450"
     },
     "user_tz": -180
    },
    "id": "gPKz1vGhSiNH"
   },
   "outputs": [],
   "source": [
    "def epoch_time(start_time, end_time):\n",
    "    elapsed_time = end_time - start_time\n",
    "    elapsed_mins = int(elapsed_time / 60)\n",
    "    elapsed_secs = int(elapsed_time - (elapsed_mins * 60))\n",
    "    return elapsed_mins, elapsed_secs"
   ]
  },
  {
   "cell_type": "markdown",
   "metadata": {
    "id": "zuP4bbb8R4ki"
   },
   "source": [
    "**Training the Model**\n",
    "- Iterate over epochs.\n",
    "- In each epochs:\n",
    "  - Training the Model with training set.\n",
    "  - Evaluate the Model with validation set.\n",
    "  - Check the best validation loss and save the model parameters\n",
    "  - Print the result metrics: Loss and Accuracy."
   ]
  },
  {
   "cell_type": "code",
   "execution_count": 31,
   "metadata": {
    "colab": {
     "base_uri": "https://localhost:8080/"
    },
    "executionInfo": {
     "elapsed": 771266,
     "status": "ok",
     "timestamp": 1614212361354,
     "user": {
      "displayName": "Trung Lương",
      "photoUrl": "",
      "userId": "02044496887486952450"
     },
     "user_tz": -180
    },
    "id": "_-pyaes-SlCC",
    "outputId": "0e1ad4ce-81ef-444b-c62a-73d3132040c5"
   },
   "outputs": [
    {
     "name": "stdout",
     "output_type": "stream",
     "text": [
      "Epoch: 01 | Epoch Time: 0m 28s\n",
      "\tTrain Loss: 0.361 | Train Acc: 84.48%\n",
      "\t Val. Loss: 0.330 |  Val. Acc: 86.05%\n",
      "Epoch: 02 | Epoch Time: 0m 27s\n",
      "\tTrain Loss: 0.321 | Train Acc: 86.29%\n",
      "\t Val. Loss: 0.314 |  Val. Acc: 86.89%\n",
      "Epoch: 03 | Epoch Time: 0m 27s\n",
      "\tTrain Loss: 0.310 | Train Acc: 86.85%\n",
      "\t Val. Loss: 0.304 |  Val. Acc: 87.28%\n",
      "Epoch: 04 | Epoch Time: 0m 27s\n",
      "\tTrain Loss: 0.301 | Train Acc: 87.24%\n",
      "\t Val. Loss: 0.298 |  Val. Acc: 87.55%\n",
      "Epoch: 05 | Epoch Time: 0m 27s\n",
      "\tTrain Loss: 0.295 | Train Acc: 87.52%\n",
      "\t Val. Loss: 0.294 |  Val. Acc: 87.72%\n",
      "Epoch: 06 | Epoch Time: 0m 27s\n",
      "\tTrain Loss: 0.290 | Train Acc: 87.74%\n",
      "\t Val. Loss: 0.291 |  Val. Acc: 87.84%\n",
      "Epoch: 07 | Epoch Time: 0m 27s\n",
      "\tTrain Loss: 0.286 | Train Acc: 87.92%\n",
      "\t Val. Loss: 0.288 |  Val. Acc: 87.96%\n",
      "Epoch: 08 | Epoch Time: 0m 27s\n",
      "\tTrain Loss: 0.282 | Train Acc: 88.07%\n",
      "\t Val. Loss: 0.285 |  Val. Acc: 88.08%\n",
      "Epoch: 09 | Epoch Time: 0m 27s\n",
      "\tTrain Loss: 0.279 | Train Acc: 88.22%\n",
      "\t Val. Loss: 0.283 |  Val. Acc: 88.16%\n",
      "Epoch: 10 | Epoch Time: 0m 27s\n",
      "\tTrain Loss: 0.276 | Train Acc: 88.35%\n",
      "\t Val. Loss: 0.282 |  Val. Acc: 88.26%\n",
      "Epoch: 11 | Epoch Time: 0m 27s\n",
      "\tTrain Loss: 0.273 | Train Acc: 88.47%\n",
      "\t Val. Loss: 0.281 |  Val. Acc: 88.25%\n",
      "Epoch: 12 | Epoch Time: 0m 27s\n",
      "\tTrain Loss: 0.270 | Train Acc: 88.60%\n",
      "\t Val. Loss: 0.279 |  Val. Acc: 88.35%\n",
      "Epoch: 13 | Epoch Time: 0m 27s\n",
      "\tTrain Loss: 0.267 | Train Acc: 88.72%\n",
      "\t Val. Loss: 0.278 |  Val. Acc: 88.38%\n",
      "Epoch: 14 | Epoch Time: 0m 27s\n",
      "\tTrain Loss: 0.265 | Train Acc: 88.85%\n",
      "\t Val. Loss: 0.277 |  Val. Acc: 88.44%\n",
      "Epoch: 15 | Epoch Time: 0m 27s\n",
      "\tTrain Loss: 0.262 | Train Acc: 88.97%\n",
      "\t Val. Loss: 0.276 |  Val. Acc: 88.45%\n",
      "Epoch: 16 | Epoch Time: 0m 27s\n",
      "\tTrain Loss: 0.259 | Train Acc: 89.08%\n",
      "\t Val. Loss: 0.275 |  Val. Acc: 88.51%\n",
      "Epoch: 17 | Epoch Time: 0m 27s\n",
      "\tTrain Loss: 0.257 | Train Acc: 89.22%\n",
      "\t Val. Loss: 0.274 |  Val. Acc: 88.51%\n",
      "Epoch: 18 | Epoch Time: 0m 27s\n",
      "\tTrain Loss: 0.254 | Train Acc: 89.36%\n",
      "\t Val. Loss: 0.274 |  Val. Acc: 88.49%\n",
      "Epoch: 19 | Epoch Time: 0m 27s\n",
      "\tTrain Loss: 0.251 | Train Acc: 89.48%\n",
      "\t Val. Loss: 0.274 |  Val. Acc: 88.47%\n",
      "Epoch: 20 | Epoch Time: 0m 27s\n",
      "\tTrain Loss: 0.249 | Train Acc: 89.58%\n",
      "\t Val. Loss: 0.274 |  Val. Acc: 88.49%\n",
      "Epoch: 21 | Epoch Time: 0m 27s\n",
      "\tTrain Loss: 0.246 | Train Acc: 89.72%\n",
      "\t Val. Loss: 0.275 |  Val. Acc: 88.44%\n",
      "Epoch: 22 | Epoch Time: 0m 27s\n",
      "\tTrain Loss: 0.243 | Train Acc: 89.86%\n",
      "\t Val. Loss: 0.274 |  Val. Acc: 88.50%\n",
      "Epoch: 23 | Epoch Time: 0m 27s\n",
      "\tTrain Loss: 0.240 | Train Acc: 90.02%\n",
      "\t Val. Loss: 0.275 |  Val. Acc: 88.48%\n",
      "Epoch: 24 | Epoch Time: 0m 27s\n",
      "\tTrain Loss: 0.236 | Train Acc: 90.18%\n",
      "\t Val. Loss: 0.275 |  Val. Acc: 88.48%\n",
      "Epoch: 25 | Epoch Time: 0m 27s\n",
      "\tTrain Loss: 0.233 | Train Acc: 90.35%\n",
      "\t Val. Loss: 0.273 |  Val. Acc: 88.54%\n"
     ]
    }
   ],
   "source": [
    "best_valid_loss = float('inf')\n",
    "train_loss_list = list()\n",
    "valid_loss_list = list()\n",
    "\n",
    "for epoch in range(EPOCHS):\n",
    "    start_time = time.monotonic()\n",
    "    \n",
    "    train_loss, train_acc = train(model, X_train, y_train, optimizer, loss_fn, device, batch_size=BATCH_SIZE)\n",
    "    valid_loss, valid_acc = evaluate(model, X_valid, y_valid, loss_fn, device, batch_size=BATCH_SIZE)\n",
    "\n",
    "    train_loss_list.append(train_loss)\n",
    "    valid_loss_list.append(valid_loss)\n",
    "    \n",
    "    if valid_loss < best_valid_loss:\n",
    "        best_valid_loss = valid_loss\n",
    "        torch.save(model.state_dict(), 'cnn_model.pt')\n",
    "    \n",
    "    end_time = time.monotonic()\n",
    "\n",
    "    epoch_mins, epoch_secs = epoch_time(start_time, end_time)\n",
    "    \n",
    "    print(f'Epoch: {epoch+1:02} | Epoch Time: {epoch_mins}m {epoch_secs}s')\n",
    "    print(f'\\tTrain Loss: {train_loss:.3f} | Train Acc: {train_acc*100:.2f}%')\n",
    "    print(f'\\t Val. Loss: {valid_loss:.3f} |  Val. Acc: {valid_acc*100:.2f}%')"
   ]
  },
  {
   "cell_type": "markdown",
   "metadata": {
    "id": "rclO3ZcaT3I_"
   },
   "source": [
    "**Load the parameters of the best model and evaluate the model on the test set**"
   ]
  },
  {
   "cell_type": "code",
   "execution_count": 32,
   "metadata": {
    "executionInfo": {
     "elapsed": 772122,
     "status": "ok",
     "timestamp": 1614212363220,
     "user": {
      "displayName": "Trung Lương",
      "photoUrl": "",
      "userId": "02044496887486952450"
     },
     "user_tz": -180
    },
    "id": "W3pRCywIld27"
   },
   "outputs": [],
   "source": [
    "model.load_state_dict(torch.load('cnn_model.pt'))\n",
    "\n",
    "test_loss, test_acc = evaluate(model, X_test, y_test, loss_fn, device, batch_size=BATCH_SIZE)"
   ]
  },
  {
   "cell_type": "markdown",
   "metadata": {
    "id": "keQ5vt2lKpKi"
   },
   "source": [
    "**Test Loss**"
   ]
  },
  {
   "cell_type": "code",
   "execution_count": 33,
   "metadata": {
    "colab": {
     "base_uri": "https://localhost:8080/"
    },
    "executionInfo": {
     "elapsed": 770947,
     "status": "ok",
     "timestamp": 1614212363221,
     "user": {
      "displayName": "Trung Lương",
      "photoUrl": "",
      "userId": "02044496887486952450"
     },
     "user_tz": -180
    },
    "id": "gw065Y9jn7-3",
    "outputId": "ae0aea29-a284-4f20-f216-0ca20357cc4c"
   },
   "outputs": [
    {
     "name": "stdout",
     "output_type": "stream",
     "text": [
      "Test Loss: 0.272 | Test Acc: 88.52%\n"
     ]
    }
   ],
   "source": [
    "print(f'Test Loss: {test_loss:.3f} | Test Acc: {test_acc*100:.2f}%')"
   ]
  },
  {
   "cell_type": "markdown",
   "metadata": {
    "id": "rP-QoefNUOJL"
   },
   "source": [
    "### **Examining the Model**"
   ]
  },
  {
   "cell_type": "markdown",
   "metadata": {
    "id": "C8eXQ8b7CQRe"
   },
   "source": [
    "**Visualizing loss of train set and valid set**"
   ]
  },
  {
   "cell_type": "code",
   "execution_count": 34,
   "metadata": {
    "executionInfo": {
     "elapsed": 768684,
     "status": "ok",
     "timestamp": 1614212363223,
     "user": {
      "displayName": "Trung Lương",
      "photoUrl": "",
      "userId": "02044496887486952450"
     },
     "user_tz": -180
    },
    "id": "8EnfxhZ2Cffe"
   },
   "outputs": [],
   "source": [
    "epoch_list = np.arange(1, 26)"
   ]
  },
  {
   "cell_type": "code",
   "execution_count": 35,
   "metadata": {
    "colab": {
     "base_uri": "https://localhost:8080/",
     "height": 497
    },
    "executionInfo": {
     "elapsed": 767505,
     "status": "ok",
     "timestamp": 1614212363224,
     "user": {
      "displayName": "Trung Lương",
      "photoUrl": "",
      "userId": "02044496887486952450"
     },
     "user_tz": -180
    },
    "id": "nHpukHOwC85C",
    "outputId": "77d164aa-3e89-40c7-e8bf-30dbd768cf65"
   },
   "outputs": [
    {
     "data": {
      "image/png": "[encoded data removed]",
      "text/plain": [
       "<Figure size 1008x576 with 1 Axes>"
      ]
     },
     "metadata": {
      "needs_background": "light",
      "tags": []
     },
     "output_type": "display_data"
    }
   ],
   "source": [
    "fig, ax = plt.subplots(figsize=(14,8))\n",
    "\n",
    "ax.plot(epoch_list, train_loss_list, label='train loss')\n",
    "ax.plot(epoch_list, valid_loss_list, label='validate loss')\n",
    "ax.set_xlabel('Epoch')\n",
    "ax.set_ylabel('Loss')\n",
    "\n",
    "ax.legend()\n",
    "plt.show()"
   ]
  },
  {
   "cell_type": "markdown",
   "metadata": {
    "id": "xcSAID4QUZEH"
   },
   "source": [
    "Get the predictions of all dataset"
   ]
  },
  {
   "cell_type": "code",
   "execution_count": 36,
   "metadata": {
    "executionInfo": {
     "elapsed": 765429,
     "status": "ok",
     "timestamp": 1614212363226,
     "user": {
      "displayName": "Trung Lương",
      "photoUrl": "",
      "userId": "02044496887486952450"
     },
     "user_tz": -180
    },
    "id": "LcWx6hIj8Ucv"
   },
   "outputs": [],
   "source": [
    "def get_predictions(model, X, y, device, batch_size):\n",
    "    \n",
    "    model.eval()\n",
    "    predict_label = []\n",
    "\n",
    "    with torch.no_grad():\n",
    "        for (batchX, batchY) in next_batch(X, y, batch_size):\n",
    "            x = torch.from_numpy(batchX).to(device)\n",
    "\n",
    "            y_pred = model(x)\n",
    "            top_pred = y_pred.argmax(1, keepdim = True)\n",
    "\n",
    "            for i in top_pred:\n",
    "                predict_label.append(i.item())\n",
    "\n",
    "    return np.array(predict_label)"
   ]
  },
  {
   "cell_type": "code",
   "execution_count": 37,
   "metadata": {
    "executionInfo": {
     "elapsed": 766771,
     "status": "ok",
     "timestamp": 1614212365134,
     "user": {
      "displayName": "Trung Lương",
      "photoUrl": "",
      "userId": "02044496887486952450"
     },
     "user_tz": -180
    },
    "id": "OYDZ8I7E_B1m"
   },
   "outputs": [],
   "source": [
    "predict_label = get_predictions(model, X_test, y_test, device, batch_size=BATCH_SIZE)"
   ]
  },
  {
   "cell_type": "markdown",
   "metadata": {
    "id": "D6cEYYL2Uir5"
   },
   "source": [
    "**Confusion matrix**"
   ]
  },
  {
   "cell_type": "code",
   "execution_count": 38,
   "metadata": {
    "colab": {
     "base_uri": "https://localhost:8080/"
    },
    "executionInfo": {
     "elapsed": 765871,
     "status": "ok",
     "timestamp": 1614212365136,
     "user": {
      "displayName": "Trung Lương",
      "photoUrl": "",
      "userId": "02044496887486952450"
     },
     "user_tz": -180
    },
    "id": "I3199D2tCKGK",
    "outputId": "56ef5330-8150-4276-c638-fb24b9d52e2b"
   },
   "outputs": [
    {
     "name": "stdout",
     "output_type": "stream",
     "text": [
      "[[26670  3045]\n",
      " [ 1722 10192]]\n"
     ]
    }
   ],
   "source": [
    "cm = confusion_matrix(y_test, predict_label)\n",
    "print(cm)"
   ]
  },
  {
   "cell_type": "code",
   "execution_count": 39,
   "metadata": {
    "executionInfo": {
     "elapsed": 765332,
     "status": "ok",
     "timestamp": 1614212365138,
     "user": {
      "displayName": "Trung Lương",
      "photoUrl": "",
      "userId": "02044496887486952450"
     },
     "user_tz": -180
    },
    "id": "2zOKEZraEiZp"
   },
   "outputs": [],
   "source": [
    "pd_cm = pd.DataFrame(cm, index = ['negative', 'positive'], columns = ['negative', 'positive'])"
   ]
  },
  {
   "cell_type": "code",
   "execution_count": 40,
   "metadata": {
    "colab": {
     "base_uri": "https://localhost:8080/",
     "height": 606
    },
    "executionInfo": {
     "elapsed": 764844,
     "status": "ok",
     "timestamp": 1614212365140,
     "user": {
      "displayName": "Trung Lương",
      "photoUrl": "",
      "userId": "02044496887486952450"
     },
     "user_tz": -180
    },
    "id": "48rztXHME2Uu",
    "outputId": "b31c0b83-9f54-4d72-df7c-d1c10af73df2"
   },
   "outputs": [
    {
     "data": {
      "image/png": "[encoded data removed]",
      "text/plain": [
       "<Figure size 1008x720 with 2 Axes>"
      ]
     },
     "metadata": {
      "needs_background": "light",
      "tags": []
     },
     "output_type": "display_data"
    }
   ],
   "source": [
    "plt.figure(figsize=(14,10))\n",
    "ax = plt.axes()\n",
    "sn.heatmap(pd_cm, annot=True, fmt='d', cmap='Blues')\n",
    "ax.set_xlabel('Predict label')\n",
    "ax.set_ylabel('True label')\n",
    "\n",
    "plt.show()"
   ]
  },
  {
   "cell_type": "markdown",
   "metadata": {
    "id": "DiJYDqskKNLT"
   },
   "source": [
    "**F1 score**"
   ]
  },
  {
   "cell_type": "code",
   "execution_count": 42,
   "metadata": {
    "colab": {
     "base_uri": "https://localhost:8080/"
    },
    "executionInfo": {
     "elapsed": 866,
     "status": "ok",
     "timestamp": 1614212385652,
     "user": {
      "displayName": "Trung Lương",
      "photoUrl": "",
      "userId": "02044496887486952450"
     },
     "user_tz": -180
    },
    "id": "_ZcJWxHSKRnc",
    "outputId": "5feec191-a671-4eab-81d7-3441852686d5"
   },
   "outputs": [
    {
     "name": "stdout",
     "output_type": "stream",
     "text": [
      "F1 score: 0.81\n"
     ]
    }
   ],
   "source": [
    "fs = f1_score(y_test, predict_label)\n",
    "print(f'F1 score: {fs:.2f}')"
   ]
  },
  {
   "cell_type": "markdown",
   "metadata": {
    "id": "JN4kRzctFynl"
   },
   "source": [
    "**Recall score**"
   ]
  },
  {
   "cell_type": "code",
   "execution_count": 43,
   "metadata": {
    "colab": {
     "base_uri": "https://localhost:8080/"
    },
    "executionInfo": {
     "elapsed": 907,
     "status": "ok",
     "timestamp": 1614212398903,
     "user": {
      "displayName": "Trung Lương",
      "photoUrl": "",
      "userId": "02044496887486952450"
     },
     "user_tz": -180
    },
    "id": "9JGn8mDvLC0-",
    "outputId": "c1c47ff0-6ef8-47b2-cc20-b8df5050b388"
   },
   "outputs": [
    {
     "name": "stdout",
     "output_type": "stream",
     "text": [
      "Recall score: 0.86\n"
     ]
    }
   ],
   "source": [
    "rs = recall_score(y_test, predict_label)\n",
    "print(f'Recall score: {rs:.2f}')"
   ]
  },
  {
   "cell_type": "code",
   "execution_count": null,
   "metadata": {
    "id": "O2x8DIp690Bo"
   },
   "outputs": [],
   "source": []
  }
 ],
 "metadata": {
  "accelerator": "GPU",
  "colab": {
   "authorship_tag": "ABX9TyP8G7Q1wExezUojish5KPYD",
   "collapsed_sections": [],
   "machine_shape": "hm",
   "name": "CNN.ipynb",
   "provenance": []
  },
  "kernelspec": {
   "display_name": "Python 3",
   "language": "python",
   "name": "python3"
  },
  "language_info": {
   "codemirror_mode": {
    "name": "ipython",
    "version": 3
   },
   "file_extension": ".py",
   "mimetype": "text/x-python",
   "name": "python",
   "nbconvert_exporter": "python",
   "pygments_lexer": "ipython3",
   "version": "3.7.10"
  }
 },
 "nbformat": 4,
 "nbformat_minor": 1
}
